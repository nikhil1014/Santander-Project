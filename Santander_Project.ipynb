{
  "nbformat": 4,
  "nbformat_minor": 0,
  "metadata": {
    "colab": {
      "name": "Santander Project.ipynb",
      "provenance": [],
      "collapsed_sections": [],
      "include_colab_link": true
    },
    "kernelspec": {
      "name": "python3",
      "display_name": "Python 3"
    },
    "accelerator": "GPU"
  },
  "cells": [
    {
      "cell_type": "markdown",
      "metadata": {
        "id": "view-in-github",
        "colab_type": "text"
      },
      "source": [
        "<a href=\"https://colab.research.google.com/github/nikhil1014/Santander-Project/blob/master/Santander_Project.ipynb\" target=\"_parent\"><img src=\"https://colab.research.google.com/assets/colab-badge.svg\" alt=\"Open In Colab\"/></a>"
      ]
    },
    {
      "cell_type": "markdown",
      "metadata": {
        "id": "5UuA79LgBrH0",
        "colab_type": "text"
      },
      "source": [
        "#IMPORTING DATASET FROM GOOGLE DRIVE"
      ]
    },
    {
      "cell_type": "code",
      "metadata": {
        "id": "CBUDAuGMqoMq",
        "colab_type": "code",
        "colab": {}
      },
      "source": [
        "!pip install -U -q PyDrive\n",
        "from pydrive.auth import GoogleAuth\n",
        "from pydrive.drive import GoogleDrive\n",
        "from google.colab import auth\n",
        "from oauth2client.client import GoogleCredentials\n",
        "\n",
        "auth.authenticate_user()\n",
        "gauth = GoogleAuth()\n",
        "gauth.credentials = GoogleCredentials.get_application_default()\n",
        "drive = GoogleDrive(gauth)\n"
      ],
      "execution_count": 0,
      "outputs": []
    },
    {
      "cell_type": "code",
      "metadata": {
        "id": "yfH_Nx2VqbhR",
        "colab_type": "code",
        "colab": {}
      },
      "source": [
        "import pandas as pd"
      ],
      "execution_count": 0,
      "outputs": []
    },
    {
      "cell_type": "code",
      "metadata": {
        "id": "zG4KfjjprVfd",
        "colab_type": "code",
        "colab": {}
      },
      "source": [
        "Link='https://drive.google.com/open?id=1hhq0vWBSm84VS2b4VJqq4Bqu5GNXHaBw'"
      ],
      "execution_count": 0,
      "outputs": []
    },
    {
      "cell_type": "code",
      "metadata": {
        "id": "XZoBPuABrcrl",
        "colab_type": "code",
        "colab": {}
      },
      "source": [
        "fluff, ID = Link.split('=')\n",
        "print (ID)"
      ],
      "execution_count": 0,
      "outputs": []
    },
    {
      "cell_type": "code",
      "metadata": {
        "id": "BjSfvkLstPc8",
        "colab_type": "code",
        "colab": {}
      },
      "source": [
        "downloaded=drive.CreateFile({'id':'1hhq0vWBSm84VS2b4VJqq4Bqu5GNXHaBw'}) \n",
        "downloaded.GetContentFile('train.csv')  \n",
        "train=pd.read_csv('train.csv')\n"
      ],
      "execution_count": 0,
      "outputs": []
    },
    {
      "cell_type": "code",
      "metadata": {
        "id": "rEncF5p4q2lo",
        "colab_type": "code",
        "colab": {}
      },
      "source": [
        "link='https://drive.google.com/open?id=1IYcyMCeXpbQSe6lzzUDlHSOxr2pVWqOq'"
      ],
      "execution_count": 0,
      "outputs": []
    },
    {
      "cell_type": "code",
      "metadata": {
        "id": "Z0vpueibrGpp",
        "colab_type": "code",
        "colab": {}
      },
      "source": [
        "fluff, id = link.split('=')\n",
        "print (id)"
      ],
      "execution_count": 0,
      "outputs": []
    },
    {
      "cell_type": "code",
      "metadata": {
        "id": "Ce6nHrYxrIUd",
        "colab_type": "code",
        "colab": {}
      },
      "source": [
        "downloaded=drive.CreateFile({'id':'1IYcyMCeXpbQSe6lzzUDlHSOxr2pVWqOq'}) \n",
        "downloaded.GetContentFile('test.csv')  \n",
        "test=pd.read_csv('test.csv')"
      ],
      "execution_count": 0,
      "outputs": []
    },
    {
      "cell_type": "markdown",
      "metadata": {
        "colab_type": "text",
        "id": "v2uQli6TDWNG"
      },
      "source": [
        "#IMPORTING DATASET FROM LOCAL SYSTEM"
      ]
    },
    {
      "cell_type": "code",
      "metadata": {
        "id": "Yj_q_33_DTqt",
        "colab_type": "code",
        "colab": {}
      },
      "source": [
        "#Setting working directory\n",
        "import os\n",
        "os.chdir(\"E:/Analytics/Edwisor/Python Programming\")\n",
        "os.getcwd()"
      ],
      "execution_count": 0,
      "outputs": []
    },
    {
      "cell_type": "code",
      "metadata": {
        "id": "-radV6sSEFtl",
        "colab_type": "code",
        "colab": {}
      },
      "source": [
        "#Import train and test datasets\n",
        "import pandas as pd\n",
        "train=pd.read_csv(\"train.csv\")\n",
        "test=pd.read_csv(\"test.csv\")"
      ],
      "execution_count": 0,
      "outputs": []
    },
    {
      "cell_type": "markdown",
      "metadata": {
        "id": "Tez1i8Mz0c1F",
        "colab_type": "text"
      },
      "source": [
        "###Load required libraries"
      ]
    },
    {
      "cell_type": "code",
      "metadata": {
        "id": "dLbwakfJtfC6",
        "colab_type": "code",
        "colab": {}
      },
      "source": [
        "import pandas as pd\n",
        "import numpy as np\n",
        "import seaborn as sns\n",
        "%matplotlib inline\n",
        "import matplotlib.pyplot as plt\n",
        "from scipy.stats import chi2_contingency\n",
        "from sklearn.metrics import confusion_matrix\n",
        "from sklearn.model_selection import train_test_split\n",
        "import warnings \n",
        "warnings.filterwarnings(\"ignore\",category=FutureWarning)"
      ],
      "execution_count": 0,
      "outputs": []
    },
    {
      "cell_type": "markdown",
      "metadata": {
        "id": "WZGaw4G1hO50",
        "colab_type": "text"
      },
      "source": [
        "#**EXPLORATORY DATA ANALYSIS**\n",
        "###DATA COLLECTION"
      ]
    },
    {
      "cell_type": "code",
      "metadata": {
        "id": "8lXHyUcum_Wa",
        "colab_type": "code",
        "colab": {}
      },
      "source": [
        "#Exploring data\n",
        "train.info(),test.info()\n",
        "train.describe()"
      ],
      "execution_count": 0,
      "outputs": []
    },
    {
      "cell_type": "code",
      "metadata": {
        "id": "pa0G71GmrBVw",
        "colab_type": "code",
        "colab": {}
      },
      "source": [
        "#Binary Classification\n",
        "train['target'].unique()"
      ],
      "execution_count": 0,
      "outputs": []
    },
    {
      "cell_type": "code",
      "metadata": {
        "id": "a2_Zg4a7NuTL",
        "colab_type": "code",
        "colab": {}
      },
      "source": [
        "#Target class distribution\n",
        "train['target'].value_counts()"
      ],
      "execution_count": 0,
      "outputs": []
    },
    {
      "cell_type": "code",
      "metadata": {
        "id": "1xU38p9t40D0",
        "colab_type": "code",
        "colab": {}
      },
      "source": [
        "#Checking count for possible values of target\n",
        "train.groupby('target').count()['ID_code']"
      ],
      "execution_count": 0,
      "outputs": []
    },
    {
      "cell_type": "markdown",
      "metadata": {
        "id": "g8koRzA7_Yjr",
        "colab_type": "text"
      },
      "source": [
        "###DATA VISUALIZATION"
      ]
    },
    {
      "cell_type": "code",
      "metadata": {
        "id": "cZtjvkCilixP",
        "colab_type": "code",
        "colab": {}
      },
      "source": [
        "#Checking target column\n",
        "sns.countplot(train['target'])"
      ],
      "execution_count": 0,
      "outputs": []
    },
    {
      "cell_type": "code",
      "metadata": {
        "id": "TvxSp43rtjHy",
        "colab_type": "code",
        "colab": {}
      },
      "source": [
        "#Storing variables names\n",
        "cnames=train.iloc[:,1:20]\n",
        "\n",
        "#Correlation matrix\n",
        "corr=cnames.corr()"
      ],
      "execution_count": 0,
      "outputs": []
    },
    {
      "cell_type": "code",
      "metadata": {
        "id": "tbI8xy4A1BNc",
        "colab_type": "code",
        "colab": {}
      },
      "source": [
        "#Correlation Plot\n",
        "fig,ax=plt.subplots(figsize=(20,20))\n",
        "cmap=sns.diverging_palette(220,10,as_cmap=True)\n",
        "htm=sns.heatmap(corr,ax=ax,annot=True,vmin=-1,linewidths=0.2)"
      ],
      "execution_count": 0,
      "outputs": []
    },
    {
      "cell_type": "markdown",
      "metadata": {
        "id": "geEBBodkMxz3",
        "colab_type": "text"
      },
      "source": [
        "###DATA PRE-PROCESSING"
      ]
    },
    {
      "cell_type": "code",
      "metadata": {
        "id": "LSzfezp3tbHi",
        "colab_type": "code",
        "colab": {}
      },
      "source": [
        "#MISSING VALUE ANALYSIS (Train and Test Dataset)\n",
        "missing_val_1=pd.DataFrame(train.isnull().sum())\n",
        "missing_val_2=pd.DataFrame(test.isnull().sum())\n",
        "\n",
        "sum(missing_val_1),sum(missing_val_2)\n"
      ],
      "execution_count": 0,
      "outputs": []
    },
    {
      "cell_type": "markdown",
      "metadata": {
        "id": "bWu6bgyLhiOI",
        "colab_type": "text"
      },
      "source": [
        "Prepare data for model (We will figure out which are the important variables)"
      ]
    },
    {
      "cell_type": "code",
      "metadata": {
        "id": "8R_8xCZoNufP",
        "colab_type": "code",
        "colab": {}
      },
      "source": [
        "#Permutation Importance\n",
        "cols=[\"target\",\"ID_code\"]\n",
        "X=train.drop(cols,axis=1)\n",
        "Y=train[\"target\"]\n",
        "X_test=test.drop(\"ID_code\",axis=1)"
      ],
      "execution_count": 0,
      "outputs": []
    },
    {
      "cell_type": "markdown",
      "metadata": {
        "id": "4QRwTDZgPFMU",
        "colab_type": "text"
      },
      "source": [
        "Create a sample model to calculate which features are more important"
      ]
    },
    {
      "cell_type": "code",
      "metadata": {
        "id": "bYPK70H_POd7",
        "colab_type": "code",
        "colab": {}
      },
      "source": [
        "train_x,val_x,train_y,val_y=train_test_split(X,Y,random_state=1)\n",
        "from sklearn.ensemble import RandomForestClassifier\n",
        "rfc_model=RandomForestClassifier(n_estimators=100).fit(train_x,train_y)"
      ],
      "execution_count": 0,
      "outputs": []
    },
    {
      "cell_type": "markdown",
      "metadata": {
        "id": "xDW_ozDjz-dL",
        "colab_type": "text"
      },
      "source": [
        "Here is how to calculate and show importances with the **eli5** library:"
      ]
    },
    {
      "cell_type": "code",
      "metadata": {
        "id": "Qj5B7QwpPOqH",
        "colab_type": "code",
        "colab": {}
      },
      "source": [
        "!pip install eli5\n",
        "import eli5\n",
        "from eli5.sklearn import PermutationImportance\n",
        "perm=PermutationImportance(rfc_model,random_state=1).fit(val_x,val_y)"
      ],
      "execution_count": 0,
      "outputs": []
    },
    {
      "cell_type": "code",
      "metadata": {
        "id": "FxgekjvlkAd2",
        "colab_type": "code",
        "colab": {}
      },
      "source": [
        "#Showing weights of features\n",
        "eli5.show_weights(perm,feature_names=val_x.columns.tolist(),top=150)"
      ],
      "execution_count": 0,
      "outputs": []
    },
    {
      "cell_type": "markdown",
      "metadata": {
        "id": "ETFeiL4ouXrk",
        "colab_type": "text"
      },
      "source": [
        "#**SPLITTING DATASET**\n",
        "\n"
      ]
    },
    {
      "cell_type": "code",
      "metadata": {
        "id": "kdeD_C0LrBjv",
        "colab_type": "code",
        "colab": {}
      },
      "source": [
        "from sklearn.model_selection import train_test_split\n",
        "X=train.iloc[:,2:202]\n",
        "Y=train.iloc[:,1]\n",
        "x_train,x_test,y_train,y_test=train_test_split(X,Y,test_size=0.2)"
      ],
      "execution_count": 0,
      "outputs": []
    },
    {
      "cell_type": "markdown",
      "metadata": {
        "id": "CTmE5FGA_0yr",
        "colab_type": "text"
      },
      "source": [
        "#**LOGISTIC REGRESSION**"
      ]
    },
    {
      "cell_type": "code",
      "metadata": {
        "id": "v15ynt3YrfRw",
        "colab_type": "code",
        "colab": {}
      },
      "source": [
        "import warnings \n",
        "warnings.filterwarnings(\"ignore\",category=FutureWarning)\n",
        "from sklearn.linear_model import LogisticRegression"
      ],
      "execution_count": 0,
      "outputs": []
    },
    {
      "cell_type": "code",
      "metadata": {
        "id": "fry7dBHAy79-",
        "colab_type": "code",
        "colab": {}
      },
      "source": [
        "#Split dataset\n",
        "from sklearn.model_selection import train_test_split\n",
        "X=train.iloc[:,2:202]\n",
        "Y=train.iloc[:,1]\n",
        "x_train,x_test,y_train,y_test=train_test_split(X,Y,test_size=0.2)\n"
      ],
      "execution_count": 0,
      "outputs": []
    },
    {
      "cell_type": "code",
      "metadata": {
        "id": "thObUO4gUgDY",
        "colab_type": "code",
        "colab": {}
      },
      "source": [
        "#Developing model\n",
        "LGR_Model=LogisticRegression(solver='lbfgs',max_iter=10000).fit(x_train,y_train) "
      ],
      "execution_count": 0,
      "outputs": []
    },
    {
      "cell_type": "code",
      "metadata": {
        "id": "e4zmGJFOzGdJ",
        "colab_type": "code",
        "colab": {}
      },
      "source": [
        "#Predict test cases\n",
        "LGR_Predictions=LGR_Model.predict(x_test)"
      ],
      "execution_count": 0,
      "outputs": []
    },
    {
      "cell_type": "code",
      "metadata": {
        "id": "JDF94hp-BKGd",
        "colab_type": "code",
        "colab": {}
      },
      "source": [
        "#Build Confusion Matrix\n",
        "CM=pd.crosstab(y_test,LGR_Predictions)"
      ],
      "execution_count": 0,
      "outputs": []
    },
    {
      "cell_type": "code",
      "metadata": {
        "id": "BGp1t_X17Qee",
        "colab_type": "code",
        "colab": {}
      },
      "source": [
        "#Let us save required locations\n",
        "TN=CM.iloc[0,0]\n",
        "FN=CM.iloc[1,0]\n",
        "TP=CM.iloc[1,1]\n",
        "FP=CM.iloc[0,1]"
      ],
      "execution_count": 0,
      "outputs": []
    },
    {
      "cell_type": "code",
      "metadata": {
        "id": "Q2KvK3Le7Qh9",
        "colab_type": "code",
        "colab": {}
      },
      "source": [
        "#Accuracy\n",
        "((TP+TN)*100)/(TP+TN+FP+FN)"
      ],
      "execution_count": 0,
      "outputs": []
    },
    {
      "cell_type": "code",
      "metadata": {
        "id": "dmD_BSHe7Qn5",
        "colab_type": "code",
        "colab": {}
      },
      "source": [
        "#False Negative Rate,Precision,Recall\n",
        "(FN*100)/(TP+FN),(TP*100)/(TP+FP),(TP*100)/(TP+FN)"
      ],
      "execution_count": 0,
      "outputs": []
    },
    {
      "cell_type": "code",
      "metadata": {
        "id": "gHr0T0R07QrE",
        "colab_type": "code",
        "colab": {}
      },
      "source": [
        "#Evaluating performance of the model\n",
        "from sklearn.metrics import roc_auc_score\n",
        "roc_auc_score(y_test,LGR_Predictions)*100"
      ],
      "execution_count": 0,
      "outputs": []
    },
    {
      "cell_type": "code",
      "metadata": {
        "id": "X6aI_qS07Qt6",
        "colab_type": "code",
        "colab": {}
      },
      "source": [
        "#Predicting on TEST dataset\n",
        "test_data=test.iloc[:,1:201]\n",
        "LGR_Test_Prediction=LGR_Model.predict(test_data)"
      ],
      "execution_count": 0,
      "outputs": []
    },
    {
      "cell_type": "code",
      "metadata": {
        "id": "fAx112XZ7Qw4",
        "colab_type": "code",
        "colab": {}
      },
      "source": [
        "LGR_Submission=pd.DataFrame({\n",
        "                  \"ID_code\":test[\"ID_code\"],\n",
        "                   \"target\":LGR_Test_Prediction\n",
        "})"
      ],
      "execution_count": 0,
      "outputs": []
    },
    {
      "cell_type": "markdown",
      "metadata": {
        "id": "pxZIV_Lf_kAo",
        "colab_type": "text"
      },
      "source": [
        "#**NAIVE BAYES**\n",
        "Algorithm 1"
      ]
    },
    {
      "cell_type": "code",
      "metadata": {
        "id": "bBmc7mXs7Qzx",
        "colab_type": "code",
        "colab": {}
      },
      "source": [
        "#Split dataset\n",
        "from sklearn.model_selection import train_test_split\n",
        "X=train.iloc[:,2:202]\n",
        "Y=train.iloc[:,1]\n",
        "x_train,x_test,y_train,y_test=train_test_split(X,Y,test_size=0.2)"
      ],
      "execution_count": 0,
      "outputs": []
    },
    {
      "cell_type": "code",
      "metadata": {
        "id": "5bt4C2U_7Q3T",
        "colab_type": "code",
        "colab": {}
      },
      "source": [
        "#Naive Bayes implementation\n",
        "from sklearn.naive_bayes import GaussianNB\n",
        "#Developing model\n",
        "NB_Model=GaussianNB().fit(x_train,y_train)"
      ],
      "execution_count": 0,
      "outputs": []
    },
    {
      "cell_type": "code",
      "metadata": {
        "id": "B_asqfD17Q6B",
        "colab_type": "code",
        "colab": {}
      },
      "source": [
        "#Predict test cases\n",
        "NB_Predictions=NB_Model.predict(x_test)"
      ],
      "execution_count": 0,
      "outputs": []
    },
    {
      "cell_type": "code",
      "metadata": {
        "id": "RUqDeIXL7Q8z",
        "colab_type": "code",
        "colab": {}
      },
      "source": [
        "#Build Confusion Matrix\n",
        "CM=pd.crosstab(y_test,NB_Predictions)"
      ],
      "execution_count": 0,
      "outputs": []
    },
    {
      "cell_type": "code",
      "metadata": {
        "id": "KXHgmzr47Q_i",
        "colab_type": "code",
        "colab": {}
      },
      "source": [
        "#Let us save required locations\n",
        "TN=CM.iloc[0,0]\n",
        "FN=CM.iloc[1,0]\n",
        "TP=CM.iloc[1,1]\n",
        "FP=CM.iloc[0,1]"
      ],
      "execution_count": 0,
      "outputs": []
    },
    {
      "cell_type": "code",
      "metadata": {
        "id": "zV_4Nnt07REq",
        "colab_type": "code",
        "colab": {}
      },
      "source": [
        "#Accuracy\n",
        "((TP+TN)*100)/(TP+TN+FP+FN)"
      ],
      "execution_count": 0,
      "outputs": []
    },
    {
      "cell_type": "code",
      "metadata": {
        "id": "Zt2-XUz-7RHk",
        "colab_type": "code",
        "colab": {}
      },
      "source": [
        "#False Negative Rate,Precision,Recall\n",
        "(FN*100)/(TP+FN),(TP*100)/(TP+FP),(TP*100)/(TP+FN)"
      ],
      "execution_count": 0,
      "outputs": []
    },
    {
      "cell_type": "code",
      "metadata": {
        "id": "y_Tmmgm57RNX",
        "colab_type": "code",
        "colab": {}
      },
      "source": [
        "#Evaluating performance of the model\n",
        "from sklearn.metrics import roc_auc_score\n",
        "roc_auc_score(y_test,NB_Predictions)*100"
      ],
      "execution_count": 0,
      "outputs": []
    },
    {
      "cell_type": "code",
      "metadata": {
        "id": "s6cKFxw97RQw",
        "colab_type": "code",
        "colab": {}
      },
      "source": [
        "#Predicting on TEST dataset\n",
        "test_data=test.iloc[:,1:201]\n",
        "NB_Test_Prediction=NB_Model.predict(test_data)"
      ],
      "execution_count": 0,
      "outputs": []
    },
    {
      "cell_type": "code",
      "metadata": {
        "id": "1CE7NWZ97RTW",
        "colab_type": "code",
        "colab": {}
      },
      "source": [
        "NB_Submission=pd.DataFrame({\n",
        "                  \"ID_code\":test[\"ID_code\"],\n",
        "                   \"target\":NB_Test_Prediction\n",
        "})"
      ],
      "execution_count": 0,
      "outputs": []
    },
    {
      "cell_type": "markdown",
      "metadata": {
        "id": "BT_t9b3cjzgN",
        "colab_type": "text"
      },
      "source": [
        "#**RANDOM FOREST**\n",
        "Algorithm 2"
      ]
    },
    {
      "cell_type": "code",
      "metadata": {
        "id": "iJF-6chq7RWh",
        "colab_type": "code",
        "colab": {}
      },
      "source": [
        "from sklearn.preprocessing import StandardScaler\n",
        "from sklearn.ensemble import RandomForestClassifier"
      ],
      "execution_count": 0,
      "outputs": []
    },
    {
      "cell_type": "code",
      "metadata": {
        "id": "v_leg_J47Rb5",
        "colab_type": "code",
        "colab": {}
      },
      "source": [
        "#Split dataset\n",
        "from sklearn.model_selection import train_test_split\n",
        "X=train.iloc[:,2:202]\n",
        "Y=train.iloc[:,1]\n",
        "x_train,x_test,y_train,y_test=train_test_split(X,Y,test_size=0.2)"
      ],
      "execution_count": 0,
      "outputs": []
    },
    {
      "cell_type": "code",
      "metadata": {
        "id": "VjSehXU27Reu",
        "colab_type": "code",
        "colab": {}
      },
      "source": [
        "#Normalization\n",
        "sc=StandardScaler(with_std=True)\n",
        "sc.fit(x_train),sc.fit(x_test)"
      ],
      "execution_count": 0,
      "outputs": []
    },
    {
      "cell_type": "code",
      "metadata": {
        "id": "lF_Gu46_7Rh8",
        "colab_type": "code",
        "colab": {}
      },
      "source": [
        "#New Scaled data\n",
        "x_train_scaled=sc.transform(x_train)\n",
        "x_test_scaled=sc.transform(x_test)"
      ],
      "execution_count": 0,
      "outputs": []
    },
    {
      "cell_type": "code",
      "metadata": {
        "id": "beZ_Ut1J7Rk3",
        "colab_type": "code",
        "colab": {}
      },
      "source": [
        "#Developing Model\n",
        "RF_Model=RandomForestClassifier(n_estimators=100,max_features=14).fit(x_train_scaled,y_train)"
      ],
      "execution_count": 0,
      "outputs": []
    },
    {
      "cell_type": "code",
      "metadata": {
        "id": "JtcNoUmD7Rnp",
        "colab_type": "code",
        "colab": {}
      },
      "source": [
        "#Predict test cases\n",
        "RF_Predictions=RF_Model.predict(x_test_scaled)"
      ],
      "execution_count": 0,
      "outputs": []
    },
    {
      "cell_type": "code",
      "metadata": {
        "id": "o4O-nuAr7Rql",
        "colab_type": "code",
        "colab": {}
      },
      "source": [
        "#Build Confusion Matrix\n",
        "CM=pd.crosstab(y_test,RF_Predictions)"
      ],
      "execution_count": 0,
      "outputs": []
    },
    {
      "cell_type": "code",
      "metadata": {
        "id": "KMrSrD1s7Rtu",
        "colab_type": "code",
        "colab": {}
      },
      "source": [
        "#Let us save required locations\n",
        "TN=CM.iloc[0,0]\n",
        "FN=CM.iloc[1,0]\n",
        "TP=CM.iloc[1,1]\n",
        "FP=CM.iloc[0,1]"
      ],
      "execution_count": 0,
      "outputs": []
    },
    {
      "cell_type": "code",
      "metadata": {
        "id": "4yiwT0wD7Rwf",
        "colab_type": "code",
        "colab": {}
      },
      "source": [
        "#Accuracy\n",
        "((TP+TN)*100)/(TP+TN+FP+FN)"
      ],
      "execution_count": 0,
      "outputs": []
    },
    {
      "cell_type": "code",
      "metadata": {
        "id": "e0RXfyzy7Rz5",
        "colab_type": "code",
        "colab": {}
      },
      "source": [
        "#False Negative Rate,Precision,Recall\n",
        "(FN*100)/(TP+FN),(TP*100)/(TP+FP),(TP*100)/(TP+FN)"
      ],
      "execution_count": 0,
      "outputs": []
    },
    {
      "cell_type": "code",
      "metadata": {
        "id": "yE9196mk7R-4",
        "colab_type": "code",
        "colab": {}
      },
      "source": [
        "#Evaluating performance of the model\n",
        "from sklearn.metrics import roc_auc_score\n",
        "roc_auc_score(y_test,RF_Predictions)*100"
      ],
      "execution_count": 0,
      "outputs": []
    },
    {
      "cell_type": "code",
      "metadata": {
        "id": "k1on8UAk7SCE",
        "colab_type": "code",
        "colab": {}
      },
      "source": [
        "#Predicting on TEST dataset\n",
        "test_data=test.iloc[:,1:201]\n",
        "RF_Test_Prediction=RF_Model.predict(test_data)"
      ],
      "execution_count": 0,
      "outputs": []
    },
    {
      "cell_type": "code",
      "metadata": {
        "id": "6altr6aB7R8K",
        "colab_type": "code",
        "colab": {}
      },
      "source": [
        "RF_Submission=pd.DataFrame({\n",
        "                  \"ID_code\":test[\"ID_code\"],\n",
        "                   \"target\":RF_Test_Prediction\n",
        "})"
      ],
      "execution_count": 0,
      "outputs": []
    },
    {
      "cell_type": "markdown",
      "metadata": {
        "id": "6pzZDMSFogIU",
        "colab_type": "text"
      },
      "source": [
        "#**CatBoost**\n",
        "Algorithm 3"
      ]
    },
    {
      "cell_type": "code",
      "metadata": {
        "id": "wJcPiFEp7R5N",
        "colab_type": "code",
        "colab": {}
      },
      "source": [
        "#Install package\n",
        "!pip install catboost\n",
        "from catboost import CatBoostClassifier"
      ],
      "execution_count": 0,
      "outputs": []
    },
    {
      "cell_type": "code",
      "metadata": {
        "id": "QTkracuKovbg",
        "colab_type": "code",
        "colab": {}
      },
      "source": [
        "#Split dataset\n",
        "from sklearn.model_selection import train_test_split\n",
        "X=train.iloc[:,2:202]\n",
        "Y=train.iloc[:,1]\n",
        "x_train,x_test,y_train,y_test=train_test_split(X,Y,test_size=0.2)"
      ],
      "execution_count": 0,
      "outputs": []
    },
    {
      "cell_type": "code",
      "metadata": {
        "id": "TNjrG_Cw7R27",
        "colab_type": "code",
        "colab": {}
      },
      "source": [
        "#Developing Model\n",
        "CAT_Model=CatBoostClassifier(\n",
        "                             iterations=3000,learning_rate=0.03,objective=\"Logloss\",eval_metric='AUC',\n",
        "                             )\n",
        "CAT_Model.fit(x_train,y_train,silent=True)"
      ],
      "execution_count": 0,
      "outputs": []
    },
    {
      "cell_type": "code",
      "metadata": {
        "id": "wucuZqKM7RZd",
        "colab_type": "code",
        "colab": {}
      },
      "source": [
        "#Predict test cases\n",
        "CAT_Predictions=CAT_Model.predict(x_test)"
      ],
      "execution_count": 0,
      "outputs": []
    },
    {
      "cell_type": "code",
      "metadata": {
        "id": "xdN36elX7RKm",
        "colab_type": "code",
        "colab": {}
      },
      "source": [
        "#Build Confusion Matrix\n",
        "CM=pd.crosstab(y_test,CAT_Predictions)"
      ],
      "execution_count": 0,
      "outputs": []
    },
    {
      "cell_type": "code",
      "metadata": {
        "id": "nux3AnHW7RCF",
        "colab_type": "code",
        "colab": {}
      },
      "source": [
        "#Let us save required locations\n",
        "TN=CM.iloc[0,0]\n",
        "FN=CM.iloc[1,0]\n",
        "TP=CM.iloc[1,1]\n",
        "FP=CM.iloc[0,1]"
      ],
      "execution_count": 0,
      "outputs": []
    },
    {
      "cell_type": "code",
      "metadata": {
        "id": "ccGbRJdT8jTq",
        "colab_type": "code",
        "colab": {}
      },
      "source": [
        "#Accuracy\n",
        "((TP+TN)*100)/(TP+TN+FP+FN)"
      ],
      "execution_count": 0,
      "outputs": []
    },
    {
      "cell_type": "code",
      "metadata": {
        "id": "UKlZp5do8jXd",
        "colab_type": "code",
        "colab": {}
      },
      "source": [
        "#False Negative Rate,Precision,Recall\n",
        "(FN*100)/(TP+FN),(TP*100)/(TP+FP),(TP*100)/(TP+FN)"
      ],
      "execution_count": 0,
      "outputs": []
    },
    {
      "cell_type": "code",
      "metadata": {
        "id": "BpYE6Y0q8jbL",
        "colab_type": "code",
        "colab": {}
      },
      "source": [
        "#Evaluating performance of the model\n",
        "from sklearn.metrics import roc_auc_score\n",
        "roc_auc_score(y_test,CAT_Predictions)*100"
      ],
      "execution_count": 0,
      "outputs": []
    },
    {
      "cell_type": "code",
      "metadata": {
        "id": "s42ru9my8jeD",
        "colab_type": "code",
        "colab": {}
      },
      "source": [
        "#Predicting on TEST dataset\n",
        "test_data=test.iloc[:,1:201]\n",
        "CAT_Test_Prediction=CAT_Model.predict(test_data)"
      ],
      "execution_count": 0,
      "outputs": []
    },
    {
      "cell_type": "code",
      "metadata": {
        "id": "LRxwySU_8jmQ",
        "colab_type": "code",
        "colab": {}
      },
      "source": [
        "CAT_Submission=pd.DataFrame({\n",
        "                  \"ID_code\":test[\"ID_code\"],\n",
        "                   \"target\":CAT_Test_Prediction\n",
        "})"
      ],
      "execution_count": 0,
      "outputs": []
    },
    {
      "cell_type": "markdown",
      "metadata": {
        "id": "XIqMZ2zm8vOI",
        "colab_type": "text"
      },
      "source": [
        "#**DECISION TREE**\n",
        "Algorithm 4"
      ]
    },
    {
      "cell_type": "code",
      "metadata": {
        "id": "fcMmeuLKphiQ",
        "colab_type": "code",
        "colab": {}
      },
      "source": [
        "#Load libraries\n",
        "from sklearn import tree\n",
        "from sklearn.tree import DecisionTreeClassifier"
      ],
      "execution_count": 0,
      "outputs": []
    },
    {
      "cell_type": "code",
      "metadata": {
        "id": "hg0fYA7b8jp7",
        "colab_type": "code",
        "colab": {}
      },
      "source": [
        "#Split dataset\n",
        "from sklearn.model_selection import train_test_split\n",
        "X=train.iloc[:,2:202]\n",
        "Y=train.iloc[:,1]\n",
        "x_train,x_test,y_train,y_test=train_test_split(X,Y,test_size=0.2)"
      ],
      "execution_count": 0,
      "outputs": []
    },
    {
      "cell_type": "code",
      "metadata": {
        "id": "X0UZMHcy8jvG",
        "colab_type": "code",
        "colab": {}
      },
      "source": [
        "#Normalization\n",
        "from sklearn.preprocessing import StandardScaler\n",
        "sc=StandardScaler(with_std=True)\n",
        "sc.fit(x_train),sc.fit(x_test)"
      ],
      "execution_count": 0,
      "outputs": []
    },
    {
      "cell_type": "code",
      "metadata": {
        "id": "nwQsXbWe8j01",
        "colab_type": "code",
        "colab": {}
      },
      "source": [
        "#New Scaled data\n",
        "x_train_scaled=sc.transform(x_train)\n",
        "x_test_scaled=sc.transform(x_test)"
      ],
      "execution_count": 0,
      "outputs": []
    },
    {
      "cell_type": "code",
      "metadata": {
        "id": "nxjap3mt8j_3",
        "colab_type": "code",
        "colab": {}
      },
      "source": [
        "#Developing Model\n",
        "DT_Model=tree.DecisionTreeClassifier(criterion='gini').fit(x_train_scaled,y_train)"
      ],
      "execution_count": 0,
      "outputs": []
    },
    {
      "cell_type": "code",
      "metadata": {
        "id": "xbuMezdS8kFc",
        "colab_type": "code",
        "colab": {}
      },
      "source": [
        "#Predict test cases\n",
        "DT_Predictions=DT_Model.predict(x_test_scaled)"
      ],
      "execution_count": 0,
      "outputs": []
    },
    {
      "cell_type": "code",
      "metadata": {
        "id": "2xep3w9p8kK6",
        "colab_type": "code",
        "colab": {}
      },
      "source": [
        "#Build Confusion Matrix\n",
        "CM=pd.crosstab(y_test,DT_Predictions)"
      ],
      "execution_count": 0,
      "outputs": []
    },
    {
      "cell_type": "code",
      "metadata": {
        "id": "YwuO2mka8kOF",
        "colab_type": "code",
        "colab": {}
      },
      "source": [
        "#Let us save required locations\n",
        "TN=CM.iloc[0,0]\n",
        "FN=CM.iloc[1,0]\n",
        "TP=CM.iloc[1,1]\n",
        "FP=CM.iloc[0,1]"
      ],
      "execution_count": 0,
      "outputs": []
    },
    {
      "cell_type": "code",
      "metadata": {
        "id": "2kT01u-h8kI_",
        "colab_type": "code",
        "colab": {}
      },
      "source": [
        "#Accuracy\n",
        "((TP+TN)*100)/(TP+TN+FP+FN)"
      ],
      "execution_count": 0,
      "outputs": []
    },
    {
      "cell_type": "code",
      "metadata": {
        "id": "Wy9jDyqu8kC-",
        "colab_type": "code",
        "colab": {}
      },
      "source": [
        "#False Negative Rate,Precision,Recall\n",
        "(FN*100)/(TP+FN),(TP*100)/(TP+FP),(TP*100)/(TP+FN)"
      ],
      "execution_count": 0,
      "outputs": []
    },
    {
      "cell_type": "code",
      "metadata": {
        "id": "i4VJGyNW8j8_",
        "colab_type": "code",
        "colab": {}
      },
      "source": [
        "#Evaluating performance of the model\n",
        "from sklearn.metrics import roc_auc_score\n",
        "roc_auc_score(y_test,DT_Predictions)*100"
      ],
      "execution_count": 0,
      "outputs": []
    },
    {
      "cell_type": "code",
      "metadata": {
        "id": "6T2Ziu1p8j7D",
        "colab_type": "code",
        "colab": {}
      },
      "source": [
        "#Predicting on TEST dataset\n",
        "test_data=test.iloc[:,1:201]\n",
        "DT_Test_Prediction=DT_Model.predict(test_data)"
      ],
      "execution_count": 0,
      "outputs": []
    },
    {
      "cell_type": "code",
      "metadata": {
        "id": "4vdfnsgN8j4A",
        "colab_type": "code",
        "colab": {}
      },
      "source": [
        "DT_Submission=pd.DataFrame({\n",
        "                  \"ID_code\":test[\"ID_code\"],\n",
        "                   \"target\":DT_Test_Prediction\n",
        "})\n"
      ],
      "execution_count": 0,
      "outputs": []
    },
    {
      "cell_type": "code",
      "metadata": {
        "id": "P3urVdiGZIsQ",
        "colab_type": "code",
        "colab": {}
      },
      "source": [
        ""
      ],
      "execution_count": 0,
      "outputs": []
    }
  ]
}